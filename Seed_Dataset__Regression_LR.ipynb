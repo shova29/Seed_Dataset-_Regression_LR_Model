{
  "nbformat": 4,
  "nbformat_minor": 0,
  "metadata": {
    "colab": {
      "name": "Seed_Dataset _Regression_LR).ipynb",
      "provenance": [],
      "collapsed_sections": []
    },
    "kernelspec": {
      "name": "python3",
      "display_name": "Python 3"
    }
  },
  "cells": [
    {
      "cell_type": "markdown",
      "metadata": {
        "id": "1FZ4ZicPEvkC"
      },
      "source": [
        "**Importing pandas to read a dataset, matplotlib,seaborn import for plotting,libraries and checking packages_version**"
      ]
    },
    {
      "cell_type": "code",
      "metadata": {
        "colab": {
          "base_uri": "https://localhost:8080/"
        },
        "id": "vli-nqJcFoQ9",
        "outputId": "be120c90-36b9-45df-eb4a-eceb45b811b2"
      },
      "source": [
        "from sklearn.linear_model import LinearRegression\n",
        "import matplotlib\n",
        "import seaborn\n",
        "import pandas as pd\n",
        "import matplotlib.pyplot as plt\n",
        "import seaborn as sns\n",
        "from sklearn.linear_model import LinearRegression\n",
        "print(matplotlib.__version__)\n",
        "print(seaborn.__version__)"
      ],
      "execution_count": null,
      "outputs": [
        {
          "output_type": "stream",
          "text": [
            "3.2.2\n",
            "0.11.1\n"
          ],
          "name": "stdout"
        }
      ]
    },
    {
      "cell_type": "markdown",
      "metadata": {
        "id": "OJphVQdERT7x"
      },
      "source": [
        "**To Read Seed-Dataset**"
      ]
    },
    {
      "cell_type": "code",
      "metadata": {
        "colab": {
          "base_uri": "https://localhost:8080/"
        },
        "id": "18y01TKLE1BS",
        "outputId": "2a186f2f-bf22-4123-eeee-2032eb628685"
      },
      "source": [
        "data=pd.read_csv('https://query.data.world/s/uouysa55slsp4etdkc3ova7hww6xue')\n",
        "print(data)"
      ],
      "execution_count": null,
      "outputs": [
        {
          "output_type": "stream",
          "text": [
            "      ID   area  ...  lengthOfKernelGroove  seedType\n",
            "0      1  15.26  ...                 5.220         1\n",
            "1      2  14.88  ...                 4.956         1\n",
            "2      3  14.29  ...                 4.825         1\n",
            "3      4  13.84  ...                 4.805         1\n",
            "4      5  16.14  ...                 5.175         1\n",
            "..   ...    ...  ...                   ...       ...\n",
            "205  206  12.19  ...                 4.870         3\n",
            "206  207  11.23  ...                 5.003         3\n",
            "207  208  13.20  ...                 5.056         3\n",
            "208  209  11.84  ...                 5.044         3\n",
            "209  210  12.30  ...                 5.063         3\n",
            "\n",
            "[210 rows x 9 columns]\n"
          ],
          "name": "stdout"
        }
      ]
    },
    {
      "cell_type": "markdown",
      "metadata": {
        "id": "N3zyZLVpFSeZ"
      },
      "source": [
        "**To Findout the datatypes of Seed-Dataset**\n"
      ]
    },
    {
      "cell_type": "code",
      "metadata": {
        "colab": {
          "base_uri": "https://localhost:8080/"
        },
        "id": "1ayEvjXRwH7x",
        "outputId": "1dd2e6da-65b7-415d-a8e0-a400384ddec7"
      },
      "source": [
        "data.dtypes"
      ],
      "execution_count": null,
      "outputs": [
        {
          "output_type": "execute_result",
          "data": {
            "text/plain": [
              "ID                        int64\n",
              "area                    float64\n",
              "perimeter               float64\n",
              "compactness             float64\n",
              "lengthOfKernel          float64\n",
              "widthOfKernel           float64\n",
              "asymmetryCoefficient    float64\n",
              "lengthOfKernelGroove    float64\n",
              "seedType                  int64\n",
              "dtype: object"
            ]
          },
          "metadata": {
            "tags": []
          },
          "execution_count": 3
        }
      ]
    },
    {
      "cell_type": "markdown",
      "metadata": {
        "id": "oWBSDpkDGYtd"
      },
      "source": [
        "**To Findout the top 3 rows of data of Seed-Dataset**\n",
        "\n"
      ]
    },
    {
      "cell_type": "code",
      "metadata": {
        "colab": {
          "base_uri": "https://localhost:8080/",
          "height": 143
        },
        "id": "4WIW9f3_wL1u",
        "outputId": "aae354b6-27c6-48ff-f076-8caeb12e1350"
      },
      "source": [
        "data.head(3)"
      ],
      "execution_count": null,
      "outputs": [
        {
          "output_type": "execute_result",
          "data": {
            "text/html": [
              "<div>\n",
              "<style scoped>\n",
              "    .dataframe tbody tr th:only-of-type {\n",
              "        vertical-align: middle;\n",
              "    }\n",
              "\n",
              "    .dataframe tbody tr th {\n",
              "        vertical-align: top;\n",
              "    }\n",
              "\n",
              "    .dataframe thead th {\n",
              "        text-align: right;\n",
              "    }\n",
              "</style>\n",
              "<table border=\"1\" class=\"dataframe\">\n",
              "  <thead>\n",
              "    <tr style=\"text-align: right;\">\n",
              "      <th></th>\n",
              "      <th>ID</th>\n",
              "      <th>area</th>\n",
              "      <th>perimeter</th>\n",
              "      <th>compactness</th>\n",
              "      <th>lengthOfKernel</th>\n",
              "      <th>widthOfKernel</th>\n",
              "      <th>asymmetryCoefficient</th>\n",
              "      <th>lengthOfKernelGroove</th>\n",
              "      <th>seedType</th>\n",
              "    </tr>\n",
              "  </thead>\n",
              "  <tbody>\n",
              "    <tr>\n",
              "      <th>0</th>\n",
              "      <td>1</td>\n",
              "      <td>15.26</td>\n",
              "      <td>14.84</td>\n",
              "      <td>0.8710</td>\n",
              "      <td>5.763</td>\n",
              "      <td>3.312</td>\n",
              "      <td>2.221</td>\n",
              "      <td>5.220</td>\n",
              "      <td>1</td>\n",
              "    </tr>\n",
              "    <tr>\n",
              "      <th>1</th>\n",
              "      <td>2</td>\n",
              "      <td>14.88</td>\n",
              "      <td>14.57</td>\n",
              "      <td>0.8811</td>\n",
              "      <td>5.554</td>\n",
              "      <td>3.333</td>\n",
              "      <td>1.018</td>\n",
              "      <td>4.956</td>\n",
              "      <td>1</td>\n",
              "    </tr>\n",
              "    <tr>\n",
              "      <th>2</th>\n",
              "      <td>3</td>\n",
              "      <td>14.29</td>\n",
              "      <td>14.09</td>\n",
              "      <td>0.9050</td>\n",
              "      <td>5.291</td>\n",
              "      <td>3.337</td>\n",
              "      <td>2.699</td>\n",
              "      <td>4.825</td>\n",
              "      <td>1</td>\n",
              "    </tr>\n",
              "  </tbody>\n",
              "</table>\n",
              "</div>"
            ],
            "text/plain": [
              "   ID   area  perimeter  ...  asymmetryCoefficient  lengthOfKernelGroove  seedType\n",
              "0   1  15.26      14.84  ...                 2.221                 5.220         1\n",
              "1   2  14.88      14.57  ...                 1.018                 4.956         1\n",
              "2   3  14.29      14.09  ...                 2.699                 4.825         1\n",
              "\n",
              "[3 rows x 9 columns]"
            ]
          },
          "metadata": {
            "tags": []
          },
          "execution_count": 4
        }
      ]
    },
    {
      "cell_type": "markdown",
      "metadata": {
        "id": "brdOaqsqGzgF"
      },
      "source": [
        "**To findout the rows and columns value in the Seed-dataset**"
      ]
    },
    {
      "cell_type": "code",
      "metadata": {
        "colab": {
          "base_uri": "https://localhost:8080/"
        },
        "id": "tQuZiWItwVzE",
        "outputId": "57c3f3b6-b1ec-4ded-9956-d016d6c2d007"
      },
      "source": [
        "data.shape"
      ],
      "execution_count": null,
      "outputs": [
        {
          "output_type": "execute_result",
          "data": {
            "text/plain": [
              "(210, 9)"
            ]
          },
          "metadata": {
            "tags": []
          },
          "execution_count": 11
        }
      ]
    },
    {
      "cell_type": "markdown",
      "metadata": {
        "id": "tW1weIYiHNnc"
      },
      "source": [
        "**To Generate descriptive statistics information**"
      ]
    },
    {
      "cell_type": "code",
      "metadata": {
        "colab": {
          "base_uri": "https://localhost:8080/",
          "height": 300
        },
        "id": "OtNul2tnHR2F",
        "outputId": "c9e3e312-fb0b-4258-f81b-0236c4a42b2c"
      },
      "source": [
        "data.describe()"
      ],
      "execution_count": null,
      "outputs": [
        {
          "output_type": "execute_result",
          "data": {
            "text/html": [
              "<div>\n",
              "<style scoped>\n",
              "    .dataframe tbody tr th:only-of-type {\n",
              "        vertical-align: middle;\n",
              "    }\n",
              "\n",
              "    .dataframe tbody tr th {\n",
              "        vertical-align: top;\n",
              "    }\n",
              "\n",
              "    .dataframe thead th {\n",
              "        text-align: right;\n",
              "    }\n",
              "</style>\n",
              "<table border=\"1\" class=\"dataframe\">\n",
              "  <thead>\n",
              "    <tr style=\"text-align: right;\">\n",
              "      <th></th>\n",
              "      <th>ID</th>\n",
              "      <th>area</th>\n",
              "      <th>perimeter</th>\n",
              "      <th>compactness</th>\n",
              "      <th>lengthOfKernel</th>\n",
              "      <th>widthOfKernel</th>\n",
              "      <th>asymmetryCoefficient</th>\n",
              "      <th>lengthOfKernelGroove</th>\n",
              "      <th>seedType</th>\n",
              "    </tr>\n",
              "  </thead>\n",
              "  <tbody>\n",
              "    <tr>\n",
              "      <th>count</th>\n",
              "      <td>210.000000</td>\n",
              "      <td>210.000000</td>\n",
              "      <td>210.000000</td>\n",
              "      <td>210.000000</td>\n",
              "      <td>210.000000</td>\n",
              "      <td>210.000000</td>\n",
              "      <td>210.000000</td>\n",
              "      <td>210.000000</td>\n",
              "      <td>210.000000</td>\n",
              "    </tr>\n",
              "    <tr>\n",
              "      <th>mean</th>\n",
              "      <td>105.500000</td>\n",
              "      <td>14.847524</td>\n",
              "      <td>14.559286</td>\n",
              "      <td>0.870999</td>\n",
              "      <td>5.628533</td>\n",
              "      <td>3.258605</td>\n",
              "      <td>3.700201</td>\n",
              "      <td>5.408071</td>\n",
              "      <td>2.000000</td>\n",
              "    </tr>\n",
              "    <tr>\n",
              "      <th>std</th>\n",
              "      <td>60.765944</td>\n",
              "      <td>2.909699</td>\n",
              "      <td>1.305959</td>\n",
              "      <td>0.023629</td>\n",
              "      <td>0.443063</td>\n",
              "      <td>0.377714</td>\n",
              "      <td>1.503557</td>\n",
              "      <td>0.491480</td>\n",
              "      <td>0.818448</td>\n",
              "    </tr>\n",
              "    <tr>\n",
              "      <th>min</th>\n",
              "      <td>1.000000</td>\n",
              "      <td>10.590000</td>\n",
              "      <td>12.410000</td>\n",
              "      <td>0.808100</td>\n",
              "      <td>4.899000</td>\n",
              "      <td>2.630000</td>\n",
              "      <td>0.765100</td>\n",
              "      <td>4.519000</td>\n",
              "      <td>1.000000</td>\n",
              "    </tr>\n",
              "    <tr>\n",
              "      <th>25%</th>\n",
              "      <td>53.250000</td>\n",
              "      <td>12.270000</td>\n",
              "      <td>13.450000</td>\n",
              "      <td>0.856900</td>\n",
              "      <td>5.262250</td>\n",
              "      <td>2.944000</td>\n",
              "      <td>2.561500</td>\n",
              "      <td>5.045000</td>\n",
              "      <td>1.000000</td>\n",
              "    </tr>\n",
              "    <tr>\n",
              "      <th>50%</th>\n",
              "      <td>105.500000</td>\n",
              "      <td>14.355000</td>\n",
              "      <td>14.320000</td>\n",
              "      <td>0.873450</td>\n",
              "      <td>5.523500</td>\n",
              "      <td>3.237000</td>\n",
              "      <td>3.599000</td>\n",
              "      <td>5.223000</td>\n",
              "      <td>2.000000</td>\n",
              "    </tr>\n",
              "    <tr>\n",
              "      <th>75%</th>\n",
              "      <td>157.750000</td>\n",
              "      <td>17.305000</td>\n",
              "      <td>15.715000</td>\n",
              "      <td>0.887775</td>\n",
              "      <td>5.979750</td>\n",
              "      <td>3.561750</td>\n",
              "      <td>4.768750</td>\n",
              "      <td>5.877000</td>\n",
              "      <td>3.000000</td>\n",
              "    </tr>\n",
              "    <tr>\n",
              "      <th>max</th>\n",
              "      <td>210.000000</td>\n",
              "      <td>21.180000</td>\n",
              "      <td>17.250000</td>\n",
              "      <td>0.918300</td>\n",
              "      <td>6.675000</td>\n",
              "      <td>4.033000</td>\n",
              "      <td>8.456000</td>\n",
              "      <td>6.550000</td>\n",
              "      <td>3.000000</td>\n",
              "    </tr>\n",
              "  </tbody>\n",
              "</table>\n",
              "</div>"
            ],
            "text/plain": [
              "               ID        area  ...  lengthOfKernelGroove    seedType\n",
              "count  210.000000  210.000000  ...            210.000000  210.000000\n",
              "mean   105.500000   14.847524  ...              5.408071    2.000000\n",
              "std     60.765944    2.909699  ...              0.491480    0.818448\n",
              "min      1.000000   10.590000  ...              4.519000    1.000000\n",
              "25%     53.250000   12.270000  ...              5.045000    1.000000\n",
              "50%    105.500000   14.355000  ...              5.223000    2.000000\n",
              "75%    157.750000   17.305000  ...              5.877000    3.000000\n",
              "max    210.000000   21.180000  ...              6.550000    3.000000\n",
              "\n",
              "[8 rows x 9 columns]"
            ]
          },
          "metadata": {
            "tags": []
          },
          "execution_count": 12
        }
      ]
    },
    {
      "cell_type": "markdown",
      "metadata": {
        "id": "6P8Xg-QfIHQj"
      },
      "source": [
        "**To convert the numerical values into array in a DataFrame**"
      ]
    },
    {
      "cell_type": "code",
      "metadata": {
        "colab": {
          "base_uri": "https://localhost:8080/"
        },
        "id": "wBQGsAghwcNe",
        "outputId": "0da070e8-5249-480d-de1c-cc3dcb3359ff"
      },
      "source": [
        "a=data.values\n",
        "print(a)"
      ],
      "execution_count": null,
      "outputs": [
        {
          "output_type": "stream",
          "text": [
            "[[  1.     15.26   14.84  ...   2.221   5.22    1.   ]\n",
            " [  2.     14.88   14.57  ...   1.018   4.956   1.   ]\n",
            " [  3.     14.29   14.09  ...   2.699   4.825   1.   ]\n",
            " ...\n",
            " [208.     13.2    13.66  ...   8.315   5.056   3.   ]\n",
            " [209.     11.84   13.21  ...   3.598   5.044   3.   ]\n",
            " [210.     12.3    13.34  ...   5.637   5.063   3.   ]]\n"
          ],
          "name": "stdout"
        }
      ]
    },
    {
      "cell_type": "markdown",
      "metadata": {
        "id": "HUUX4wIaI4_t"
      },
      "source": [
        "**Assigning data into X and Y**"
      ]
    },
    {
      "cell_type": "code",
      "metadata": {
        "id": "2Y_8vmgywcfL"
      },
      "source": [
        "X=a[:,0:8]\n",
        "Y=a[:,8]"
      ],
      "execution_count": null,
      "outputs": []
    },
    {
      "cell_type": "markdown",
      "metadata": {
        "id": "R8iy77zWIPCQ"
      },
      "source": [
        "**Importing train_test_split**"
      ]
    },
    {
      "cell_type": "code",
      "metadata": {
        "id": "x4xAJNUFxf6_"
      },
      "source": [
        "from sklearn.model_selection import train_test_split"
      ],
      "execution_count": null,
      "outputs": []
    },
    {
      "cell_type": "markdown",
      "metadata": {
        "id": "9SywkSEPInkx"
      },
      "source": [
        "**Splitting the dataset into 60:40**"
      ]
    },
    {
      "cell_type": "code",
      "metadata": {
        "id": "xo18Hkcwxgz2"
      },
      "source": [
        "X_train, X_test, Y_train, Y_test=train_test_split(X,Y, test_size=0.4,random_state=22)"
      ],
      "execution_count": null,
      "outputs": []
    },
    {
      "cell_type": "markdown",
      "metadata": {
        "id": "VNxuEzle2oJV"
      },
      "source": [
        "**Linear regression:** Linear regression is a common Statistical Data Analysis technique.. It is used to determine the extent to which there is a linear relationship between a dependent variable and one or more independent variables."
      ]
    },
    {
      "cell_type": "markdown",
      "metadata": {
        "id": "gMhug54mJJy_"
      },
      "source": [
        "**To Train Linear Regression Model**"
      ]
    },
    {
      "cell_type": "code",
      "metadata": {
        "id": "oNe1urjkxhEp"
      },
      "source": [
        "lr=LinearRegression()\n",
        "model=lr.fit(X_train,Y_train)"
      ],
      "execution_count": null,
      "outputs": []
    },
    {
      "cell_type": "markdown",
      "metadata": {
        "id": "j7uFKYbMJ1l7"
      },
      "source": [
        " **To predict the Linear-Regression Model**"
      ]
    },
    {
      "cell_type": "code",
      "metadata": {
        "id": "4jy1Vf_axhSZ"
      },
      "source": [
        "predict=model.predict(X_test)"
      ],
      "execution_count": null,
      "outputs": []
    },
    {
      "cell_type": "markdown",
      "metadata": {
        "id": "d3djLyeHK8SX"
      },
      "source": [
        "**To see the prediction of the Linear-Regression Model**"
      ]
    },
    {
      "cell_type": "code",
      "metadata": {
        "colab": {
          "base_uri": "https://localhost:8080/"
        },
        "id": "3ICbMSOixhcq",
        "outputId": "d049aef0-076a-4ce4-80a7-f92cb3db207f"
      },
      "source": [
        "print(predict)"
      ],
      "execution_count": null,
      "outputs": [
        {
          "output_type": "stream",
          "text": [
            "[0.92069974 1.21036599 2.19656912 1.17116506 1.71472221 2.90763334\n",
            " 3.04022106 0.96920354 1.82577618 1.98422017 2.81798881 2.16448594\n",
            " 1.87181733 1.96731047 1.87342034 1.86378633 2.00730353 1.22003167\n",
            " 0.60336546 2.750456   0.92329278 2.80539726 1.317277   1.9759441\n",
            " 1.12160653 2.64228588 2.72091694 2.66871105 1.21845149 2.68863114\n",
            " 3.12863191 3.01131404 2.99310183 1.78062254 0.90141099 0.64283273\n",
            " 2.88192037 2.00477214 1.810794   2.64302093 1.8934656  3.03053801\n",
            " 1.54233457 0.5467367  3.18278728 1.88872984 2.94887332 3.08933836\n",
            " 2.87383033 1.69889756 0.72682596 3.01290585 2.75431047 0.81695356\n",
            " 1.92484522 0.56270732 1.89758714 0.94265442 2.81955345 2.90090433\n",
            " 2.19710133 1.82325757 1.63605375 1.8837067  3.08726053 0.73443877\n",
            " 1.26524614 2.62126438 1.98575184 2.60924187 1.64329683 2.7481055\n",
            " 0.87906217 0.64196495 3.07826152 1.22086103 2.48430184 2.62460987\n",
            " 1.97877142 0.46348558 1.19835434 0.64843323 2.77991382 2.55010556]\n"
          ],
          "name": "stdout"
        }
      ]
    },
    {
      "cell_type": "markdown",
      "metadata": {
        "id": "aJhhqVDVLbq2"
      },
      "source": [
        "**The test data of the Linear-Regression Model**"
      ]
    },
    {
      "cell_type": "code",
      "metadata": {
        "colab": {
          "base_uri": "https://localhost:8080/"
        },
        "id": "SK3qTFjSxhfx",
        "outputId": "619431bc-602e-451c-818a-9e9c2df43a48"
      },
      "source": [
        "print(Y_test)"
      ],
      "execution_count": null,
      "outputs": [
        {
          "output_type": "stream",
          "text": [
            "[1. 1. 2. 1. 2. 3. 3. 1. 2. 2. 3. 2. 2. 2. 2. 2. 2. 1. 1. 3. 1. 3. 1. 2.\n",
            " 1. 3. 3. 3. 1. 3. 3. 3. 3. 2. 1. 1. 3. 2. 2. 3. 2. 3. 1. 1. 3. 2. 3. 3.\n",
            " 3. 2. 1. 3. 3. 1. 2. 1. 2. 1. 3. 3. 2. 2. 2. 2. 3. 1. 1. 3. 2. 3. 2. 3.\n",
            " 1. 1. 3. 1. 3. 3. 2. 1. 1. 1. 3. 3.]\n"
          ],
          "name": "stdout"
        }
      ]
    },
    {
      "cell_type": "markdown",
      "metadata": {
        "id": "rfyzVbgCLoiC"
      },
      "source": [
        "**To import the performance metrics for Linear-Regression Model**\n",
        "\n"
      ]
    },
    {
      "cell_type": "code",
      "metadata": {
        "id": "4ohzVmzzxz7X"
      },
      "source": [
        "from sklearn.metrics import mean_absolute_error\n",
        "from sklearn.metrics import mean_squared_error\n",
        "from sklearn.metrics import r2_score"
      ],
      "execution_count": null,
      "outputs": []
    },
    {
      "cell_type": "markdown",
      "metadata": {
        "id": "3et7ySShL0v3"
      },
      "source": [
        "**MAE(Mean Absolute Error):**\n",
        "MAE is the average of the absolute difference between the predicted values and observed value. "
      ]
    },
    {
      "cell_type": "code",
      "metadata": {
        "colab": {
          "base_uri": "https://localhost:8080/"
        },
        "id": "AQTpQOkLx4QI",
        "outputId": "777cee05-b5b6-4ed8-a3cd-c97de619173e"
      },
      "source": [
        "mae=mean_absolute_error(Y_test,predict)\n",
        "print(\"MAE=\",mae)"
      ],
      "execution_count": null,
      "outputs": [
        {
          "output_type": "stream",
          "text": [
            "MAE= 0.19803882232655554\n"
          ],
          "name": "stdout"
        }
      ]
    },
    {
      "cell_type": "markdown",
      "metadata": {
        "id": "-iWN3eHVMFms"
      },
      "source": [
        "**Mean Square Error(MSE):**\n",
        "MSE is the average of the square difference between the predicted values and observed value.\n"
      ]
    },
    {
      "cell_type": "code",
      "metadata": {
        "colab": {
          "base_uri": "https://localhost:8080/"
        },
        "id": "jPuKpZABx7sS",
        "outputId": "d2c61260-131a-4f14-afe3-f99ace1f0685"
      },
      "source": [
        "mse=mean_squared_error(Y_test,predict)\n",
        "print(\"MSE=\",mse)"
      ],
      "execution_count": null,
      "outputs": [
        {
          "output_type": "stream",
          "text": [
            "MSE= 0.058048099559570875\n"
          ],
          "name": "stdout"
        }
      ]
    },
    {
      "cell_type": "markdown",
      "metadata": {
        "id": "4Ox3AG33MNx9"
      },
      "source": [
        "**R2-Score:**\n",
        "R-squared is a statistical measure of how close the data are to the fitted regression line."
      ]
    },
    {
      "cell_type": "code",
      "metadata": {
        "colab": {
          "base_uri": "https://localhost:8080/"
        },
        "id": "kM29-msOx8hm",
        "outputId": "5650b357-7530-4e20-fb88-ede3cc9f0f5c"
      },
      "source": [
        "r2=r2_score(Y_test,predict)\n",
        "print(\"R2=\",r2)"
      ],
      "execution_count": null,
      "outputs": [
        {
          "output_type": "stream",
          "text": [
            "R2= 0.9153045098237527\n"
          ],
          "name": "stdout"
        }
      ]
    }
  ]
}